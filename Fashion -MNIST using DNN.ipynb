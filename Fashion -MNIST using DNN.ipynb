{
  "cells": [
    {
      "cell_type": "markdown",
      "metadata": {
        "id": "view-in-github",
        "colab_type": "text"
      },
      "source": [
        "<a href=\"https://colab.research.google.com/github/ObadaEzz/Fashion-MNIST/blob/main/Task4(obada).ipynb\" target=\"_parent\"><img src=\"https://colab.research.google.com/assets/colab-badge.svg\" alt=\"Open In Colab\"/></a>"
      ]
    },
    {
      "cell_type": "markdown",
      "metadata": {
        "pycharm": {
          "name": "#%% md\n"
        },
        "id": "vL0s9O_4GHVJ"
      },
      "source": [
        "# Attempt to solve Fashion MNIST Dataset using Dense Neural Network\n",
        "## Bibliography \n",
        "* Keras official Tutorial\n",
        "* Deep Learning with Python by François Chollet\n",
        "\n",
        "## About DataSet \n",
        "**Fashion-MNIST is a dataset of Zalando's article images—consisting of a training set of 60,000 examples and a test set of 10,000 examples. Each example is a 28x28 grayscale image, associated with a label from 10 classes. Zalando intends Fashion-MNIST to serve as a direct drop-in replacement for the original MNIST dataset for benchmarking machine learning algorithms. It shares the same image size and structure of training and testing splits.**\n"
      ]
    },
    {
      "cell_type": "code",
      "execution_count": 1,
      "metadata": {
        "_cell_guid": "b1076dfc-b9ad-4769-8c92-a6c4dae69d19",
        "_uuid": "8f2839f25d086af736a60e9eeb907d3b93b6e0e5",
        "pycharm": {
          "name": "#%%\n",
          "is_executing": true
        },
        "id": "a9uUU46nGHVS"
      },
      "outputs": [],
      "source": [
        "import os\n",
        "import tensorflow as tf\n",
        "import numpy as np\n",
        "import seaborn as sns\n",
        "import pandas as pd\n",
        "import  matplotlib.pyplot as plt\n",
        "import plotly.express as px\n",
        "\n",
        "from sklearn.model_selection import train_test_split\n",
        "from tensorflow.keras.regularizers import l2\n",
        "from tensorflow.keras import layers\n",
        "from tensorflow.keras.models import Model,Sequential\n",
        "from tensorflow.keras.layers import BatchNormalization,Dense,Conv2D,Input,MaxPooling2D,Dropout,Flatten\n",
        "from tensorflow.keras.optimizers import Adam\n",
        "from keras import layers, models\n",
        "from sklearn.model_selection import train_test_split\n",
        "from sklearn.metrics import classification_report,confusion_matrix"
      ]
    },
    {
      "cell_type": "markdown",
      "source": [
        "# Load Dataset and Split it to test and train set"
      ],
      "metadata": {
        "collapsed": false,
        "pycharm": {
          "name": "#%% md\n"
        },
        "id": "arDfmGLrGHVW"
      }
    },
    {
      "cell_type": "markdown",
      "source": [
        "see this link\n",
        "https://medium.com/the-data-science-publication/how-to-import-and-display-the-fashion-mnist-dataset-using-tensorflow-e72522f684d0"
      ],
      "metadata": {
        "collapsed": false,
        "pycharm": {
          "name": "#%% md\n"
        },
        "id": "swOIhnuPGHVZ"
      }
    },
    {
      "cell_type": "code",
      "execution_count": 2,
      "metadata": {
        "_cell_guid": "79c7e3d0-c299-4dcb-8224-4455121ee9b0",
        "_uuid": "d629ff2d2480ee46fbb7e2d37f6b5fab8052498a",
        "pycharm": {
          "name": "#%%\n"
        },
        "id": "xSZV63jLGHVa",
        "colab": {
          "base_uri": "https://localhost:8080/"
        },
        "outputId": "c66e6e17-0243-4975-bd06-c3fba9584551"
      },
      "outputs": [
        {
          "output_type": "stream",
          "name": "stdout",
          "text": [
            "Downloading data from https://storage.googleapis.com/tensorflow/tf-keras-datasets/train-labels-idx1-ubyte.gz\n",
            "29515/29515 [==============================] - 0s 0us/step\n",
            "Downloading data from https://storage.googleapis.com/tensorflow/tf-keras-datasets/train-images-idx3-ubyte.gz\n",
            "26421880/26421880 [==============================] - 2s 0us/step\n",
            "Downloading data from https://storage.googleapis.com/tensorflow/tf-keras-datasets/t10k-labels-idx1-ubyte.gz\n",
            "5148/5148 [==============================] - 0s 0us/step\n",
            "Downloading data from https://storage.googleapis.com/tensorflow/tf-keras-datasets/t10k-images-idx3-ubyte.gz\n",
            "4422102/4422102 [==============================] - 0s 0us/step\n"
          ]
        }
      ],
      "source": [
        "#Getting training and testing data from tensorflow\n",
        "from tensorflow.keras.datasets import fashion_mnist\n",
        "(X_train, Y_train), (X_test, Y_test) = fashion_mnist.load_data()"
      ]
    },
    {
      "cell_type": "markdown",
      "source": [
        "28*28 image pixels"
      ],
      "metadata": {
        "collapsed": false,
        "pycharm": {
          "name": "#%% md\n"
        },
        "id": "psmkCsGWGHVb"
      }
    },
    {
      "cell_type": "code",
      "execution_count": 3,
      "metadata": {
        "pycharm": {
          "name": "#%%\n",
          "is_executing": true
        },
        "id": "ROn98juWGHVc",
        "colab": {
          "base_uri": "https://localhost:8080/"
        },
        "outputId": "76752e9c-fb68-4251-ece5-c8113a1b0ccc"
      },
      "outputs": [
        {
          "output_type": "execute_result",
          "data": {
            "text/plain": [
              "(60000, 28, 28)"
            ]
          },
          "metadata": {},
          "execution_count": 3
        }
      ],
      "source": [
        "#Training Set shape\n",
        "X_train.shape"
      ]
    },
    {
      "cell_type": "code",
      "execution_count": 4,
      "metadata": {
        "pycharm": {
          "name": "#%%\n",
          "is_executing": true
        },
        "id": "JKoZKqrfGHVd"
      },
      "outputs": [],
      "source": [
        "#Test Set consists of 10000 samples with one label field and 28*28 image pixels\n"
      ]
    },
    {
      "cell_type": "code",
      "execution_count": 5,
      "metadata": {
        "pycharm": {
          "name": "#%%\n"
        },
        "id": "QBrG6j-FGHVe"
      },
      "outputs": [],
      "source": [
        "#Labels from 0 to 9 are following Items \n",
        "class_names = ['T-shirt/top', 'Trouser', 'Pullover', 'Dress', 'Coat',\n",
        "               'Sandal', 'Shirt', 'Sneaker', 'Bag', 'Ankle boot']"
      ]
    },
    {
      "cell_type": "markdown",
      "source": [
        "Split training data to train and valid"
      ],
      "metadata": {
        "collapsed": false,
        "pycharm": {
          "name": "#%% md\n"
        },
        "id": "j5adoBAKGHVf"
      }
    },
    {
      "cell_type": "code",
      "execution_count": 6,
      "metadata": {
        "pycharm": {
          "name": "#%%\n",
          "is_executing": true
        },
        "id": "r2-fV04OGHVg"
      },
      "outputs": [],
      "source": [
        "\n",
        "X_train, X_val, y_train, y_val = train_test_split(X_train,Y_train,test_size=0.2,random_state=101)\n"
      ]
    },
    {
      "cell_type": "markdown",
      "metadata": {
        "pycharm": {
          "name": "#%% md\n"
        },
        "id": "0-S8DzcqGHVh"
      },
      "source": [
        "## Some images with their labels "
      ]
    },
    {
      "cell_type": "code",
      "execution_count": 7,
      "metadata": {
        "pycharm": {
          "name": "#%%\n"
        },
        "id": "PJiAz4vOGHVh",
        "outputId": "2d94486a-8c78-4781-8c46-98d42725488d",
        "colab": {
          "base_uri": "https://localhost:8080/",
          "height": 592
        }
      },
      "outputs": [
        {
          "output_type": "display_data",
          "data": {
            "text/plain": [
              "<Figure size 720x720 with 25 Axes>"
            ],
            "image/png": "[encoded data removed]"
          },
          "metadata": {}
        }
      ],
      "source": [
        "plt.figure(figsize=(10,10))\n",
        "for i in range(25):\n",
        "    plt.subplot(5,5,i+1)\n",
        "    plt.xticks([])\n",
        "    plt.yticks([])\n",
        "    plt.grid(False)\n",
        "    plt.imshow(X_train[i], cmap=plt.get_cmap('binary'))\n",
        "    plt.xlabel(class_names[y_train[i]])\n",
        "plt.show()"
      ]
    },
    {
      "cell_type": "code",
      "execution_count": 8,
      "metadata": {
        "pycharm": {
          "name": "#%%\n"
        },
        "id": "N_f0YS2NGHVm"
      },
      "outputs": [],
      "source": [
        "# Rescaling training to range 0 to 1 by dividing them by 255\n",
        "X_train = X_train / 255\n",
        "X_val = X_val / 255"
      ]
    },
    {
      "cell_type": "markdown",
      "metadata": {
        "pycharm": {
          "name": "#%% md\n"
        },
        "id": "DGs20rcZGHVn"
      },
      "source": [
        "**Creating a Deep Neural Network with any number of layer you want.**"
      ]
    },
    {
      "cell_type": "code",
      "execution_count": 9,
      "metadata": {
        "pycharm": {
          "name": "#%%\n"
        },
        "id": "NdCdSICBGHVo"
      },
      "outputs": [],
      "source": [
        "model = tf.keras.models.Sequential()\n"
      ]
    },
    {
      "cell_type": "markdown",
      "metadata": {
        "pycharm": {
          "name": "#%% md\n"
        },
        "id": "OKBI2zyHGHVo"
      },
      "source": [
        "**Compiling the model.**"
      ]
    },
    {
      "cell_type": "code",
      "execution_count": 10,
      "metadata": {
        "pycharm": {
          "name": "#%%\n"
        },
        "id": "CLzuHgkSGHVp"
      },
      "outputs": [],
      "source": [
        "inputs  = tf.keras.layers.Input(shape=(28,28))\n",
        "x = tf.keras.layers.Flatten()(inputs)\n",
        "x= tf.keras.layers.Dense(128, activation='relu')(x)\n",
        "x = tf.keras.layers.Dense(10, activation='softmax')(x)\n",
        "\n",
        "model = Model(inputs=inputs, outputs=x)"
      ]
    },
    {
      "cell_type": "code",
      "source": [
        "model.compile(loss='sparse_categorical_crossentropy', metrics=['accuracy'], optimizer= Adam(lr=0.01))"
      ],
      "metadata": {
        "colab": {
          "base_uri": "https://localhost:8080/"
        },
        "id": "Z62KegZlez55",
        "outputId": "4fdfd763-5f67-492c-97fc-b7dd3f83f560"
      },
      "execution_count": 11,
      "outputs": [
        {
          "output_type": "stream",
          "name": "stderr",
          "text": [
            "WARNING:absl:`lr` is deprecated, please use `learning_rate` instead, or use the legacy optimizer, e.g.,tf.keras.optimizers.legacy.Adam.\n"
          ]
        }
      ]
    },
    {
      "cell_type": "markdown",
      "metadata": {
        "pycharm": {
          "name": "#%% md\n"
        },
        "id": "90oqDLNZGHVp"
      },
      "source": [
        "**Training model with a part of training data and evaluating it with another part of training data\n",
        "and get more than 90% val_acc**"
      ]
    },
    {
      "cell_type": "code",
      "execution_count": 12,
      "metadata": {
        "pycharm": {
          "name": "#%%\n"
        },
        "id": "BksRrKGBGHVq",
        "outputId": "9b6120a0-6659-46c1-b35b-68b0a3e7009c",
        "colab": {
          "base_uri": "https://localhost:8080/"
        }
      },
      "outputs": [
        {
          "output_type": "stream",
          "name": "stdout",
          "text": [
            "Epoch 1/15\n",
            "1500/1500 [==============================] - 12s 7ms/step - loss: 0.5153 - accuracy: 0.8200 - val_loss: 0.4501 - val_accuracy: 0.8340\n",
            "Epoch 2/15\n",
            "1500/1500 [==============================] - 10s 7ms/step - loss: 0.3878 - accuracy: 0.8607 - val_loss: 0.4049 - val_accuracy: 0.8585\n",
            "Epoch 3/15\n",
            "1500/1500 [==============================] - 7s 4ms/step - loss: 0.3460 - accuracy: 0.8747 - val_loss: 0.3550 - val_accuracy: 0.8745\n",
            "Epoch 4/15\n",
            "1500/1500 [==============================] - 5s 3ms/step - loss: 0.3223 - accuracy: 0.8825 - val_loss: 0.3334 - val_accuracy: 0.8796\n",
            "Epoch 5/15\n",
            "1500/1500 [==============================] - 5s 3ms/step - loss: 0.3009 - accuracy: 0.8896 - val_loss: 0.3309 - val_accuracy: 0.8823\n",
            "Epoch 6/15\n",
            "1500/1500 [==============================] - 5s 4ms/step - loss: 0.2871 - accuracy: 0.8935 - val_loss: 0.3132 - val_accuracy: 0.8878\n",
            "Epoch 7/15\n",
            "1500/1500 [==============================] - 6s 4ms/step - loss: 0.2734 - accuracy: 0.8998 - val_loss: 0.3509 - val_accuracy: 0.8715\n",
            "Epoch 8/15\n",
            "1500/1500 [==============================] - 6s 4ms/step - loss: 0.2641 - accuracy: 0.9014 - val_loss: 0.3086 - val_accuracy: 0.8876\n",
            "Epoch 9/15\n",
            "1500/1500 [==============================] - 5s 3ms/step - loss: 0.2524 - accuracy: 0.9065 - val_loss: 0.3083 - val_accuracy: 0.8882\n",
            "Epoch 10/15\n",
            "1500/1500 [==============================] - 6s 4ms/step - loss: 0.2425 - accuracy: 0.9105 - val_loss: 0.3104 - val_accuracy: 0.8903\n",
            "Epoch 11/15\n",
            "1500/1500 [==============================] - 5s 4ms/step - loss: 0.2350 - accuracy: 0.9119 - val_loss: 0.3311 - val_accuracy: 0.8796\n",
            "Epoch 12/15\n",
            "1500/1500 [==============================] - 6s 4ms/step - loss: 0.2275 - accuracy: 0.9157 - val_loss: 0.3135 - val_accuracy: 0.8897\n",
            "Epoch 13/15\n",
            "1500/1500 [==============================] - 5s 3ms/step - loss: 0.2188 - accuracy: 0.9173 - val_loss: 0.3236 - val_accuracy: 0.8894\n",
            "Epoch 14/15\n",
            "1500/1500 [==============================] - 6s 4ms/step - loss: 0.2124 - accuracy: 0.9206 - val_loss: 0.3119 - val_accuracy: 0.8905\n",
            "Epoch 15/15\n",
            "1500/1500 [==============================] - 5s 4ms/step - loss: 0.2056 - accuracy: 0.9229 - val_loss: 0.3145 - val_accuracy: 0.8868\n"
          ]
        }
      ],
      "source": [
        "r = model.fit(X_train, y_train, epochs=15, validation_data=(X_val, y_val))"
      ]
    },
    {
      "cell_type": "markdown",
      "source": [
        "# Visualize Model Training History in Keras"
      ],
      "metadata": {
        "collapsed": false,
        "pycharm": {
          "name": "#%% md\n"
        },
        "id": "7PMxrzNfGHVr"
      }
    },
    {
      "cell_type": "markdown",
      "source": [
        "See this link\n",
        "https://machinelearningmastery.com/display-deep-learning-model-training-history-in-keras/"
      ],
      "metadata": {
        "collapsed": false,
        "pycharm": {
          "name": "#%% md\n"
        },
        "id": "P5PWPqCxGHVr"
      }
    },
    {
      "cell_type": "code",
      "source": [
        "history_dict = model.history.history\n",
        "history_dict.keys()\n",
        "loss_value = history_dict['accuracy']\n",
        "val_loss_value = history_dict['val_accuracy']"
      ],
      "metadata": {
        "id": "t9wtDj9LfqVg"
      },
      "execution_count": 13,
      "outputs": []
    },
    {
      "cell_type": "code",
      "execution_count": 14,
      "outputs": [
        {
          "output_type": "display_data",
          "data": {
            "text/plain": [
              "<Figure size 432x288 with 1 Axes>"
            ],
            "image/png": "[encoded data removed]"
          },
          "metadata": {
            "needs_background": "light"
          }
        }
      ],
      "source": [
        "epochs = range(1,16)\n",
        "plt.plot(epochs, loss_value, 'bo', label='Training loss')\n",
        "plt.plot(epochs, val_loss_value, 'b', label='Validation loss')\n",
        "plt.title('Training and validation loss')\n",
        "plt.xlabel('Epochs')\n",
        "plt.ylabel('Loss')\n",
        "plt.legend()\n",
        "plt.show()"
      ],
      "metadata": {
        "pycharm": {
          "name": "#%%\n"
        },
        "id": "XLbI_lFJGHVs",
        "outputId": "95bfbef9-81a7-4d21-e842-31e022675c74",
        "colab": {
          "base_uri": "https://localhost:8080/",
          "height": 295
        }
      }
    },
    {
      "cell_type": "markdown",
      "metadata": {
        "pycharm": {
          "name": "#%% md\n"
        },
        "id": "I_AClLtNGHVt"
      },
      "source": [
        "# Evaluate the model with our Test Set Using confusion_matrix"
      ]
    },
    {
      "cell_type": "markdown",
      "source": [
        "-split data to X_test and Y_test\n",
        "-Rescaling training to range 0 to 1 by dividing them by 255"
      ],
      "metadata": {
        "collapsed": false,
        "pycharm": {
          "name": "#%% md\n"
        },
        "id": "7tPnHGxGGHVt"
      }
    },
    {
      "cell_type": "code",
      "execution_count": 15,
      "metadata": {
        "pycharm": {
          "name": "#%%\n"
        },
        "id": "jLmdyKgCGHVv",
        "colab": {
          "base_uri": "https://localhost:8080/"
        },
        "outputId": "4ceae422-691d-411b-e974-6e7063c8f560"
      },
      "outputs": [
        {
          "output_type": "stream",
          "name": "stdout",
          "text": [
            "313/313 [==============================] - 1s 2ms/step\n"
          ]
        }
      ],
      "source": [
        "predictions = model.predict(X_test)\n",
        "predict_labels = []\n",
        "for pred in predictions:\n",
        "    predict_labels.append(np.argmax(pred))"
      ]
    },
    {
      "cell_type": "markdown",
      "source": [
        "visualization"
      ],
      "metadata": {
        "collapsed": false,
        "pycharm": {
          "name": "#%% md\n"
        },
        "id": "6jHeYNQaGHVv"
      }
    },
    {
      "cell_type": "code",
      "execution_count": 16,
      "metadata": {
        "pycharm": {
          "name": "#%%\n"
        },
        "id": "5scmMQqEGHVw",
        "outputId": "c86ae2fd-bf03-46c4-f4c6-1e29e76c5453",
        "colab": {
          "base_uri": "https://localhost:8080/",
          "height": 611
        }
      },
      "outputs": [
        {
          "output_type": "display_data",
          "data": {
            "text/plain": [
              "<Figure size 720x720 with 1 Axes>"
            ],
            "image/png": "[encoded data removed]"
          },
          "metadata": {
            "needs_background": "light"
          }
        }
      ],
      "source": [
        "mat = confusion_matrix(Y_test, predict_labels)\n",
        "plt.figure(figsize=(10, 10))\n",
        "sns.set()\n",
        "sns.heatmap(mat.T, square=True, annot=True, fmt='d', cbar=False,\n",
        "            xticklabels=np.unique(Y_test),\n",
        "            yticklabels=np.unique(Y_test))\n",
        "plt.xlabel('true label')\n",
        "plt.ylabel('predicted label')\n",
        "plt.show()"
      ]
    },
    {
      "cell_type": "markdown",
      "source": [
        "Find classification_report for the prediction"
      ],
      "metadata": {
        "collapsed": false,
        "pycharm": {
          "name": "#%% md\n"
        },
        "id": "1N_4Hwz_GHVx"
      }
    },
    {
      "cell_type": "code",
      "execution_count": 17,
      "metadata": {
        "pycharm": {
          "name": "#%%\n"
        },
        "id": "o9LsHPxOGHVx",
        "outputId": "6553e44c-6b29-43b7-9c14-086c1204d1dd",
        "colab": {
          "base_uri": "https://localhost:8080/"
        }
      },
      "outputs": [
        {
          "output_type": "stream",
          "name": "stdout",
          "text": [
            "              precision    recall  f1-score   support\n",
            "\n",
            "           0       0.81      0.84      0.83       959\n",
            "           1       0.99      0.90      0.94      1093\n",
            "           2       0.64      0.85      0.73       753\n",
            "           3       0.81      0.93      0.87       872\n",
            "           4       0.92      0.65      0.76      1414\n",
            "           5       0.92      0.98      0.95       938\n",
            "           6       0.63      0.71      0.67       879\n",
            "           7       0.85      0.97      0.91       875\n",
            "           8       0.98      0.95      0.96      1033\n",
            "           9       0.99      0.84      0.91      1184\n",
            "\n",
            "    accuracy                           0.85     10000\n",
            "   macro avg       0.85      0.86      0.85     10000\n",
            "weighted avg       0.87      0.85      0.85     10000\n",
            "\n"
          ]
        }
      ],
      "source": [
        "print(classification_report(predict_labels,Y_test))"
      ]
    },
    {
      "cell_type": "markdown",
      "source": [
        "Use model.evaluate the test data"
      ],
      "metadata": {
        "collapsed": false,
        "pycharm": {
          "name": "#%% md\n"
        },
        "id": "XzD6VbY0GHVy"
      }
    },
    {
      "cell_type": "code",
      "execution_count": 18,
      "metadata": {
        "pycharm": {
          "name": "#%%\n"
        },
        "id": "oQ5gUGA_GHVy",
        "outputId": "dfd03b49-718f-4782-ed7b-f9178e87fcf2",
        "colab": {
          "base_uri": "https://localhost:8080/"
        }
      },
      "outputs": [
        {
          "output_type": "stream",
          "name": "stdout",
          "text": [
            "313/313 [==============================] - 1s 1ms/step - loss: 70.2414 - accuracy: 0.8533\n",
            "70.24143981933594 0.8532999753952026\n"
          ]
        }
      ],
      "source": [
        "test_loss, test_acc = model.evaluate(X_test,Y_test)\n",
        "print(test_loss, test_acc)"
      ]
    }
  ],
  "metadata": {
    "kernelspec": {
      "display_name": "Python 3",
      "language": "python",
      "name": "python3"
    },
    "language_info": {
      "codemirror_mode": {
        "name": "ipython",
        "version": 3
      },
      "file_extension": ".py",
      "mimetype": "text/x-python",
      "name": "python",
      "nbconvert_exporter": "python",
      "pygments_lexer": "ipython3",
      "version": "3.6.6"
    },
    "colab": {
      "provenance": [],
      "include_colab_link": true
    }
  },
  "nbformat": 4,
  "nbformat_minor": 0
}
